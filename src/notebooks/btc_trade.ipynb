{
 "cells": [
  {
   "cell_type": "code",
   "execution_count": 31,
   "id": "6e235275",
   "metadata": {},
   "outputs": [],
   "source": [
    "import pandas as pd\n",
    "import numpy as np\n",
    "from xgboost import XGBRegressor, XGBClassifier\n",
    "from xgboost import plot_importance\n",
    "import matplotlib.pyplot as plt"
   ]
  },
  {
   "cell_type": "code",
   "execution_count": 15,
   "id": "eee45c13",
   "metadata": {},
   "outputs": [],
   "source": [
    "df_orig = pd.read_hdf(\"btc_data.hdf\", \"table\")"
   ]
  },
  {
   "cell_type": "markdown",
   "id": "083e0abb",
   "metadata": {},
   "source": [
    "### Делим данные на выборки"
   ]
  },
  {
   "cell_type": "code",
   "execution_count": 16,
   "id": "0b99d1bc",
   "metadata": {},
   "outputs": [],
   "source": [
    "df = df_orig.sample(frac=1)"
   ]
  },
  {
   "cell_type": "code",
   "execution_count": 17,
   "id": "23c2df31",
   "metadata": {},
   "outputs": [],
   "source": [
    "train_from, train_to = 0, int(len(df) * 0.7)\n",
    "valid_from, valid_to = train_to + 1, int(len(df) * 0.85)\n",
    "test_from, test_to = valid_to + 1, len(df)"
   ]
  },
  {
   "cell_type": "code",
   "execution_count": 18,
   "id": "5a18e06f",
   "metadata": {},
   "outputs": [
    {
     "name": "stdout",
     "output_type": "stream",
     "text": [
      "train: 0,\t 2002339\n",
      "valid: 2002340,\t 2431412\n",
      "test:  2431413,\t 2860485\n"
     ]
    }
   ],
   "source": [
    "print(f\"train: {train_from},\\t {train_to}\")\n",
    "print(f\"valid: {valid_from},\\t {valid_to}\")\n",
    "print(f\"test:  {test_from},\\t {test_to}\")\n",
    "train = df[train_from:train_to + 1]\n",
    "valid = df[valid_from:valid_to + 1]\n",
    "test = df[test_from:test_to + 1]"
   ]
  },
  {
   "cell_type": "code",
   "execution_count": 19,
   "id": "9994c4bb",
   "metadata": {
    "scrolled": true
   },
   "outputs": [
    {
     "name": "stdout",
     "output_type": "stream",
     "text": [
      "train%: 0.46527213160602093\n",
      "valid%: 0.4649535160683613\n",
      "test%: 0.46593112577842416\n"
     ]
    }
   ],
   "source": [
    "train_perc = len(train[train[\"open\"] > train[\"close\"]]) / len(train)\n",
    "valid_perc = len(valid[valid[\"open\"] > valid[\"close\"]]) / len(valid)\n",
    "test_perc = len(test[test[\"open\"] > test[\"close\"]]) / len(test)\n",
    "print(f\"train%: {train_perc}\")\n",
    "print(f\"valid%: {valid_perc}\")\n",
    "print(f\"test%: {test_perc}\")"
   ]
  },
  {
   "cell_type": "code",
   "execution_count": 20,
   "id": "a7fc2e79",
   "metadata": {},
   "outputs": [
    {
     "data": {
      "text/plain": [
       "Index(['timestamp', 'unixtimestamp', 'open', 'high', 'low', 'close',\n",
       "       'volume_btc', 'volume_usd', 'weighted_price', 'sma14', 'sma30', 'ema12',\n",
       "       'ema26', 'macd', 'obv', 'ad', 'adx', 'aaron', 'rsi', 'so', 'open_prev1',\n",
       "       'high_prev1', 'low_prev1', 'close_prev1', 'volume_btc_prev1',\n",
       "       'volume_usd_prev1', 'weighted_price_prev1', 'sma14_prev1',\n",
       "       'sma30_prev1', 'ema12_prev1', 'ema26_prev1', 'macd_prev1', 'obv_prev1',\n",
       "       'ad_prev1', 'adx_prev1', 'aaron_prev1', 'rsi_prev1', 'so_prev1',\n",
       "       'open_rel', 'high_rel', 'low_rel', 'close_rel', 'volume_btc_rel',\n",
       "       'volume_usd_rel', 'weighted_price_rel', 'sma14_rel', 'sma30_rel',\n",
       "       'ema12_rel', 'ema26_rel', 'macd_rel', 'obv_rel', 'ad_rel', 'adx_rel',\n",
       "       'aaron_rel', 'rsi_rel', 'so_rel', 'open_rel_prev1', 'high_rel_prev1',\n",
       "       'low_rel_prev1', 'close_rel_prev1', 'volume_btc_rel_prev1',\n",
       "       'volume_usd_rel_prev1', 'weighted_price_rel_prev1', 'sma14_rel_prev1',\n",
       "       'sma30_rel_prev1', 'ema12_rel_prev1', 'ema26_rel_prev1',\n",
       "       'macd_rel_prev1', 'obv_rel_prev1', 'ad_rel_prev1', 'adx_rel_prev1',\n",
       "       'aaron_rel_prev1', 'rsi_rel_prev1', 'so_rel_prev1'],\n",
       "      dtype='object')"
      ]
     },
     "execution_count": 20,
     "metadata": {},
     "output_type": "execute_result"
    }
   ],
   "source": [
    "train.columns"
   ]
  },
  {
   "cell_type": "code",
   "execution_count": 23,
   "id": "1d4a61ae",
   "metadata": {},
   "outputs": [],
   "source": [
    "train_columns = ['open', 'open_prev1',\n",
    "       'high_prev1', 'low_prev1', 'close_prev1', 'volume_btc_prev1',\n",
    "       'volume_usd_prev1', 'weighted_price_prev1', 'open_rel', 'high_rel_prev1',\n",
    "       'low_rel_prev1', 'close_rel_prev1', 'volume_btc_rel_prev1', 'volume_usd_rel_prev1',\n",
    "       'weighted_price_rel_prev1', 'sma14_prev1', 'sma30_prev1', 'ema12_prev1',\n",
    "       'ema26_prev1', 'macd_prev1', 'obv_prev1', 'ad_prev1', 'adx_prev1',\n",
    "       'aaron_prev1', 'rsi_prev1', 'so_prev1', 'sma14_rel_prev1', 'sma30_rel_prev1',\n",
    "       'ema12_rel_prev1', 'ema26_rel_prev1', 'macd_rel_prev1', 'obv_rel_prev1', 'ad_rel_prev1', 'adx_rel_prev1',\n",
    "       'aaron_rel_prev1', 'rsi_rel_prev1', 'so_rel_prev1']"
   ]
  },
  {
   "cell_type": "code",
   "execution_count": 27,
   "id": "9100da0c",
   "metadata": {},
   "outputs": [],
   "source": [
    "X_train = train[train_columns]\n",
    "Y_train = train[\"close\"] > train[\"open\"]\n",
    "\n",
    "X_valid = valid[train_columns]\n",
    "Y_valid = valid[\"close\"] > valid[\"open\"]"
   ]
  },
  {
   "cell_type": "code",
   "execution_count": 29,
   "id": "e05f50f2",
   "metadata": {},
   "outputs": [
    {
     "name": "stderr",
     "output_type": "stream",
     "text": [
      "/Users/abukata/opt/anaconda3/envs/trading-bot-env/lib/python3.9/site-packages/xgboost/sklearn.py:888: UserWarning: The use of label encoder in XGBClassifier is deprecated and will be removed in a future release. To remove this warning, do the following: 1) Pass option use_label_encoder=False when constructing XGBClassifier object; and 2) Encode your labels (y) as integers starting with 0, i.e. 0, 1, 2, ..., [num_class - 1].\n",
      "  warnings.warn(label_encoder_deprecation_msg, UserWarning)\n"
     ]
    },
    {
     "name": "stdout",
     "output_type": "stream",
     "text": [
      "[0]\tvalidation_0-error:0.45437\tvalidation_1-error:0.45592\n",
      "[1]\tvalidation_0-error:0.44983\tvalidation_1-error:0.45157\n",
      "[2]\tvalidation_0-error:0.44856\tvalidation_1-error:0.45040\n",
      "[3]\tvalidation_0-error:0.44602\tvalidation_1-error:0.44759\n",
      "[4]\tvalidation_0-error:0.44452\tvalidation_1-error:0.44649\n",
      "[5]\tvalidation_0-error:0.44395\tvalidation_1-error:0.44588\n",
      "[6]\tvalidation_0-error:0.44313\tvalidation_1-error:0.44522\n",
      "[7]\tvalidation_0-error:0.44216\tvalidation_1-error:0.44400\n",
      "[8]\tvalidation_0-error:0.44140\tvalidation_1-error:0.44352\n",
      "[9]\tvalidation_0-error:0.44080\tvalidation_1-error:0.44310\n",
      "[10]\tvalidation_0-error:0.43990\tvalidation_1-error:0.44217\n",
      "[11]\tvalidation_0-error:0.43922\tvalidation_1-error:0.44152\n",
      "[12]\tvalidation_0-error:0.43865\tvalidation_1-error:0.44113\n",
      "[13]\tvalidation_0-error:0.43805\tvalidation_1-error:0.44055\n",
      "[14]\tvalidation_0-error:0.43776\tvalidation_1-error:0.44047\n",
      "[15]\tvalidation_0-error:0.43735\tvalidation_1-error:0.44061\n",
      "[16]\tvalidation_0-error:0.43695\tvalidation_1-error:0.44013\n",
      "[17]\tvalidation_0-error:0.43602\tvalidation_1-error:0.43959\n",
      "[18]\tvalidation_0-error:0.43570\tvalidation_1-error:0.43953\n",
      "[19]\tvalidation_0-error:0.43521\tvalidation_1-error:0.43930\n",
      "[20]\tvalidation_0-error:0.43494\tvalidation_1-error:0.43886\n",
      "[21]\tvalidation_0-error:0.43450\tvalidation_1-error:0.43843\n",
      "[22]\tvalidation_0-error:0.43419\tvalidation_1-error:0.43833\n",
      "[23]\tvalidation_0-error:0.43397\tvalidation_1-error:0.43832\n",
      "[24]\tvalidation_0-error:0.43347\tvalidation_1-error:0.43835\n",
      "[25]\tvalidation_0-error:0.43312\tvalidation_1-error:0.43825\n",
      "[26]\tvalidation_0-error:0.43287\tvalidation_1-error:0.43848\n",
      "[27]\tvalidation_0-error:0.43256\tvalidation_1-error:0.43789\n",
      "[28]\tvalidation_0-error:0.43220\tvalidation_1-error:0.43757\n",
      "[29]\tvalidation_0-error:0.43202\tvalidation_1-error:0.43763\n",
      "[30]\tvalidation_0-error:0.43180\tvalidation_1-error:0.43759\n",
      "[31]\tvalidation_0-error:0.43163\tvalidation_1-error:0.43741\n",
      "[32]\tvalidation_0-error:0.43154\tvalidation_1-error:0.43737\n",
      "[33]\tvalidation_0-error:0.43107\tvalidation_1-error:0.43726\n",
      "[34]\tvalidation_0-error:0.43096\tvalidation_1-error:0.43718\n",
      "[35]\tvalidation_0-error:0.43066\tvalidation_1-error:0.43719\n",
      "[36]\tvalidation_0-error:0.43024\tvalidation_1-error:0.43695\n",
      "[37]\tvalidation_0-error:0.43012\tvalidation_1-error:0.43690\n",
      "[38]\tvalidation_0-error:0.42984\tvalidation_1-error:0.43676\n",
      "[39]\tvalidation_0-error:0.42959\tvalidation_1-error:0.43667\n",
      "[40]\tvalidation_0-error:0.42929\tvalidation_1-error:0.43662\n",
      "[41]\tvalidation_0-error:0.42909\tvalidation_1-error:0.43668\n",
      "[42]\tvalidation_0-error:0.42879\tvalidation_1-error:0.43666\n",
      "[43]\tvalidation_0-error:0.42855\tvalidation_1-error:0.43672\n",
      "[44]\tvalidation_0-error:0.42835\tvalidation_1-error:0.43670\n",
      "[45]\tvalidation_0-error:0.42833\tvalidation_1-error:0.43679\n",
      "[46]\tvalidation_0-error:0.42826\tvalidation_1-error:0.43682\n",
      "[47]\tvalidation_0-error:0.42812\tvalidation_1-error:0.43665\n",
      "[48]\tvalidation_0-error:0.42790\tvalidation_1-error:0.43671\n",
      "[49]\tvalidation_0-error:0.42765\tvalidation_1-error:0.43666\n",
      "[50]\tvalidation_0-error:0.42730\tvalidation_1-error:0.43623\n",
      "[51]\tvalidation_0-error:0.42727\tvalidation_1-error:0.43625\n",
      "[52]\tvalidation_0-error:0.42707\tvalidation_1-error:0.43621\n",
      "[53]\tvalidation_0-error:0.42688\tvalidation_1-error:0.43613\n",
      "[54]\tvalidation_0-error:0.42684\tvalidation_1-error:0.43617\n",
      "[55]\tvalidation_0-error:0.42679\tvalidation_1-error:0.43618\n",
      "[56]\tvalidation_0-error:0.42671\tvalidation_1-error:0.43604\n",
      "[57]\tvalidation_0-error:0.42663\tvalidation_1-error:0.43631\n",
      "[58]\tvalidation_0-error:0.42640\tvalidation_1-error:0.43601\n",
      "[59]\tvalidation_0-error:0.42632\tvalidation_1-error:0.43601\n",
      "[60]\tvalidation_0-error:0.42603\tvalidation_1-error:0.43596\n",
      "[61]\tvalidation_0-error:0.42591\tvalidation_1-error:0.43593\n",
      "[62]\tvalidation_0-error:0.42577\tvalidation_1-error:0.43594\n",
      "[63]\tvalidation_0-error:0.42563\tvalidation_1-error:0.43590\n",
      "[64]\tvalidation_0-error:0.42553\tvalidation_1-error:0.43596\n",
      "[65]\tvalidation_0-error:0.42528\tvalidation_1-error:0.43593\n",
      "[66]\tvalidation_0-error:0.42515\tvalidation_1-error:0.43596\n",
      "[67]\tvalidation_0-error:0.42510\tvalidation_1-error:0.43596\n",
      "[68]\tvalidation_0-error:0.42506\tvalidation_1-error:0.43592\n",
      "[69]\tvalidation_0-error:0.42501\tvalidation_1-error:0.43589\n",
      "[70]\tvalidation_0-error:0.42493\tvalidation_1-error:0.43593\n",
      "[71]\tvalidation_0-error:0.42487\tvalidation_1-error:0.43586\n",
      "[72]\tvalidation_0-error:0.42485\tvalidation_1-error:0.43573\n",
      "[73]\tvalidation_0-error:0.42462\tvalidation_1-error:0.43578\n",
      "[74]\tvalidation_0-error:0.42448\tvalidation_1-error:0.43554\n",
      "[75]\tvalidation_0-error:0.42414\tvalidation_1-error:0.43560\n",
      "[76]\tvalidation_0-error:0.42399\tvalidation_1-error:0.43563\n",
      "[77]\tvalidation_0-error:0.42390\tvalidation_1-error:0.43564\n",
      "[78]\tvalidation_0-error:0.42379\tvalidation_1-error:0.43564\n",
      "[79]\tvalidation_0-error:0.42350\tvalidation_1-error:0.43562\n",
      "[80]\tvalidation_0-error:0.42340\tvalidation_1-error:0.43566\n",
      "[81]\tvalidation_0-error:0.42328\tvalidation_1-error:0.43551\n",
      "[82]\tvalidation_0-error:0.42317\tvalidation_1-error:0.43554\n",
      "[83]\tvalidation_0-error:0.42309\tvalidation_1-error:0.43551\n",
      "[84]\tvalidation_0-error:0.42303\tvalidation_1-error:0.43549\n",
      "[85]\tvalidation_0-error:0.42290\tvalidation_1-error:0.43547\n",
      "[86]\tvalidation_0-error:0.42287\tvalidation_1-error:0.43550\n",
      "[87]\tvalidation_0-error:0.42278\tvalidation_1-error:0.43556\n",
      "[88]\tvalidation_0-error:0.42266\tvalidation_1-error:0.43549\n",
      "[89]\tvalidation_0-error:0.42259\tvalidation_1-error:0.43551\n",
      "[90]\tvalidation_0-error:0.42252\tvalidation_1-error:0.43555\n",
      "[91]\tvalidation_0-error:0.42243\tvalidation_1-error:0.43553\n",
      "[92]\tvalidation_0-error:0.42226\tvalidation_1-error:0.43564\n",
      "[93]\tvalidation_0-error:0.42217\tvalidation_1-error:0.43565\n",
      "[94]\tvalidation_0-error:0.42210\tvalidation_1-error:0.43562\n",
      "[95]\tvalidation_0-error:0.42206\tvalidation_1-error:0.43565\n"
     ]
    },
    {
     "data": {
      "text/plain": [
       "XGBClassifier(base_score=0.5, booster='gbtree', colsample_bylevel=1,\n",
       "              colsample_bynode=1, colsample_bytree=1, gamma=0, gpu_id=-1,\n",
       "              importance_type='gain', interaction_constraints='',\n",
       "              learning_rate=0.300000012, max_delta_step=0, max_depth=6,\n",
       "              min_child_weight=1, missing=nan, monotone_constraints='()',\n",
       "              n_estimators=100, n_jobs=12, num_parallel_tree=1, random_state=0,\n",
       "              reg_alpha=0, reg_lambda=1, scale_pos_weight=1, subsample=1,\n",
       "              tree_method='exact', validate_parameters=1, verbosity=None)"
      ]
     },
     "execution_count": 29,
     "metadata": {},
     "output_type": "execute_result"
    }
   ],
   "source": [
    "model_class = XGBClassifier(use_label_encoder=False)\n",
    "\n",
    "model_class.fit(\n",
    "        X_train, \n",
    "        Y_train, \n",
    "        eval_set=[(X_train, Y_train), (X_valid, Y_valid)], \n",
    "        verbose=True,         \n",
    "        eval_metric='error',\n",
    "        early_stopping_rounds = 10)"
   ]
  },
  {
   "cell_type": "code",
   "execution_count": 36,
   "id": "4597ab78",
   "metadata": {},
   "outputs": [
    {
     "data": {
      "text/plain": [
       "<AxesSubplot:title={'center':'Default model feature importance'}, xlabel='F score', ylabel='Features'>"
      ]
     },
     "execution_count": 36,
     "metadata": {},
     "output_type": "execute_result"
    },
    {
     "data": {
      "image/png": "[encoded data removed]",
      "text/plain": [
       "<Figure size 576x576 with 1 Axes>"
      ]
     },
     "metadata": {
      "needs_background": "light"
     },
     "output_type": "display_data"
    }
   ],
   "source": [
    "fig, ax = plt.subplots(1, 1, figsize=(8,8))\n",
    "plot_importance(booster=model_class, ax=ax, title='Default model feature importance', max_num_features=40)"
   ]
  }
 ],
 "metadata": {
  "kernelspec": {
   "display_name": "Python 3",
   "language": "python",
   "name": "python3"
  },
  "language_info": {
   "codemirror_mode": {
    "name": "ipython",
    "version": 3
   },
   "file_extension": ".py",
   "mimetype": "text/x-python",
   "name": "python",
   "nbconvert_exporter": "python",
   "pygments_lexer": "ipython3",
   "version": "3.9.4"
  }
 },
 "nbformat": 4,
 "nbformat_minor": 5
}
