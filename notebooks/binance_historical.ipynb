{
 "cells": [
  {
   "cell_type": "code",
   "execution_count": 1,
   "id": "8186f888",
   "metadata": {},
   "outputs": [
    {
     "name": "stdout",
     "output_type": "stream",
     "text": [
      "/Users/abukata/Projects/personal/trading-bot/trading-bot\n"
     ]
    }
   ],
   "source": [
    "cd /Users/abukata/Projects/personal/trading-bot/trading-bot"
   ]
  },
  {
   "cell_type": "code",
   "execution_count": 2,
   "id": "9cc0496a",
   "metadata": {},
   "outputs": [],
   "source": [
    "from binance.spot import Spot\n",
    "from models import Candle\n",
    "import pandas as pd"
   ]
  },
  {
   "cell_type": "code",
   "execution_count": 4,
   "id": "9bca1e6d",
   "metadata": {},
   "outputs": [],
   "source": [
    "client = Spot(base_url='https://testnet.binance.vision',\n",
    "                           key='RCJPWEsM8M3GAf3rS9BxmDel4smYUv2ZwGjEVp4aFLi8kc0lguIRKPqrmoZgB2GD',\n",
    "                           secret='kiqw56MTpd74ARmVl6sX2yYSEZ51PRwx6378RgSRWvWDFMoQumbGohfmq7sEZzsh')"
   ]
  },
  {
   "cell_type": "code",
   "execution_count": 24,
   "id": "81b13622",
   "metadata": {},
   "outputs": [
    {
     "name": "stdout",
     "output_type": "stream",
     "text": [
      "Candle(timestamp=1639301699999.0, open=49048.68, high=150000.0, low=48497.43, close=65843.0, asset_volume=15.442692, quote_volume=764984.10419533)\n",
      "Candle(timestamp=1639331399999.0, open=49998.75, high=50048.08, low=49994.06, close=50048.08, asset_volume=0.283926, quote_volume=14200.67439434)\n"
     ]
    }
   ],
   "source": [
    "b_klines = client.klines(symbol='BTCUSDT', interval='5m', limit=100)\n",
    "klines = []\n",
    "for b_kline in b_klines:\n",
    "    klines.append(Candle(\n",
    "                # float(b_kline[0]),  # timestamp_from\n",
    "                float(b_kline[6]),  # timestamp_to\n",
    "                float(b_kline[1]),  # open\n",
    "                float(b_kline[2]),  # high\n",
    "                float(b_kline[3]),  # low\n",
    "                float(b_kline[4]),  # close\n",
    "                float(b_kline[5]),  # asset_volume\n",
    "                float(b_kline[7])  # quote_volume\n",
    "            ))\n",
    "print(klines[0])\n",
    "print(klines[-1])"
   ]
  },
  {
   "cell_type": "code",
   "execution_count": 25,
   "id": "33f8f989",
   "metadata": {},
   "outputs": [
    {
     "name": "stdout",
     "output_type": "stream",
     "text": [
      "Candle(timestamp=1639271999999.0, open=49362.61, high=49461.73, low=49362.61, close=49402.36, asset_volume=0.978698, quote_volume=48373.91531045)\n",
      "Candle(timestamp=1639301699999.0, open=49048.68, high=150000.0, low=48497.43, close=65843.0, asset_volume=15.442692, quote_volume=764984.10419533)\n"
     ]
    }
   ],
   "source": [
    "b_klines = client.klines(symbol='BTCUSDT', endTime=1639301699999, interval='5m', limit=100)\n",
    "klines = []\n",
    "for b_kline in b_klines:\n",
    "    klines.append(Candle(\n",
    "                # float(b_kline[0]),  # timestamp_from\n",
    "                float(b_kline[6]),  # timestamp_to\n",
    "                float(b_kline[1]),  # open\n",
    "                float(b_kline[2]),  # high\n",
    "                float(b_kline[3]),  # low\n",
    "                float(b_kline[4]),  # close\n",
    "                float(b_kline[5]),  # asset_volume\n",
    "                float(b_kline[7])  # quote_volume\n",
    "            ))\n",
    "print(klines[0])\n",
    "print(klines[-1])"
   ]
  },
  {
   "cell_type": "code",
   "execution_count": 13,
   "id": "5eb8c872",
   "metadata": {},
   "outputs": [],
   "source": [
    "def get_candles(end_time):\n",
    "    b_klines = client.klines(symbol='BTCUSDT', endTime=end_time, interval='5m', limit=1000)\n",
    "    klines = []\n",
    "    for b_kline in b_klines:\n",
    "        klines.append(Candle(\n",
    "                # float(b_kline[0]),  # timestamp_from\n",
    "                float(b_kline[6])/1000,  # timestamp_to\n",
    "                float(b_kline[1]),  # open\n",
    "                float(b_kline[2]),  # high\n",
    "                float(b_kline[3]),  # low\n",
    "                float(b_kline[4]),  # close\n",
    "                float(b_kline[5]),  # asset_volume\n",
    "                float(b_kline[7])  # quote_volume\n",
    "            ))\n",
    "    return klines"
   ]
  },
  {
   "cell_type": "code",
   "execution_count": 20,
   "id": "13a03e87",
   "metadata": {},
   "outputs": [
    {
     "name": "stdout",
     "output_type": "stream",
     "text": [
      "timestamp        2021-12-12 18:09:59.999000064\n",
      "unixtimestamp                   1639332599.999\n",
      "open                                  50383.35\n",
      "high                                  50480.45\n",
      "low                                   49922.13\n",
      "close                                 50429.06\n",
      "volume_btc                            3.637139\n",
      "volume_usd                       182895.132901\n",
      "Name: 999, dtype: object\n"
     ]
    }
   ],
   "source": [
    "df = pd.DataFrame()\n",
    "end_time = None\n",
    "while True:\n",
    "    candles = get_candles(end_time)\n",
    "    if not candles:\n",
    "        break\n",
    "    df = df.append([candle.to_series() for candle in candles], ignore_index=True)\n",
    "    print(df.iloc[-1])\n",
    "    end_time = int(candles[0].timestamp)"
   ]
  },
  {
   "cell_type": "code",
   "execution_count": 23,
   "id": "b06efb57",
   "metadata": {},
   "outputs": [
    {
     "data": {
      "text/plain": [
       "[]"
      ]
     },
     "execution_count": 23,
     "metadata": {},
     "output_type": "execute_result"
    }
   ],
   "source": [
    "get_candles(1639032899)"
   ]
  }
 ],
 "metadata": {
  "kernelspec": {
   "display_name": "Python 3",
   "language": "python",
   "name": "python3"
  },
  "language_info": {
   "codemirror_mode": {
    "name": "ipython",
    "version": 3
   },
   "file_extension": ".py",
   "mimetype": "text/x-python",
   "name": "python",
   "nbconvert_exporter": "python",
   "pygments_lexer": "ipython3",
   "version": "3.9.4"
  }
 },
 "nbformat": 4,
 "nbformat_minor": 5
}
