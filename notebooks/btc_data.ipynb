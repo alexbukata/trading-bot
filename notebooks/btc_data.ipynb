{
 "cells": [
  {
   "cell_type": "code",
   "execution_count": 1,
   "metadata": {},
   "outputs": [],
   "source": [
    "import pandas as pd\n",
    "import numpy as np"
   ]
  },
  {
   "cell_type": "markdown",
   "metadata": {},
   "source": [
    "### Сырой DataFrame"
   ]
  },
  {
   "cell_type": "code",
   "execution_count": 2,
   "metadata": {},
   "outputs": [],
   "source": [
    "df_raw = pd.read_csv(\"../../resources/bitstampUSD_1-min_data_2012-01-01_to_2021-03-31.csv\")\n",
    "df_raw.columns=[\"unixtimestamp\", \"open\", \"high\",\"low\",\"close\", \"volume_btc\",\"volume_usd\",\"weighted_price\"]"
   ]
  },
  {
   "cell_type": "markdown",
   "metadata": {},
   "source": [
    "### Чистка данных"
   ]
  },
  {
   "cell_type": "code",
   "execution_count": 3,
   "metadata": {},
   "outputs": [],
   "source": [
    "df = df_raw.dropna()\n",
    "df = df.loc[(df[\"volume_btc\"] > 0) & (df[\"high\"] != df[\"low\"])]\n",
    "df.insert(loc=0, column='timestamp', value=pd.to_datetime(df['unixtimestamp'],unit = 's'))\n",
    "df.reset_index(inplace=True, drop=True)"
   ]
  },
  {
   "cell_type": "code",
   "execution_count": 4,
   "metadata": {},
   "outputs": [
    {
     "data": {
      "text/html": [
       "<div>\n",
       "<style scoped>\n",
       "    .dataframe tbody tr th:only-of-type {\n",
       "        vertical-align: middle;\n",
       "    }\n",
       "\n",
       "    .dataframe tbody tr th {\n",
       "        vertical-align: top;\n",
       "    }\n",
       "\n",
       "    .dataframe thead th {\n",
       "        text-align: right;\n",
       "    }\n",
       "</style>\n",
       "<table border=\"1\" class=\"dataframe\">\n",
       "  <thead>\n",
       "    <tr style=\"text-align: right;\">\n",
       "      <th></th>\n",
       "      <th>timestamp</th>\n",
       "      <th>unixtimestamp</th>\n",
       "      <th>open</th>\n",
       "      <th>high</th>\n",
       "      <th>low</th>\n",
       "      <th>close</th>\n",
       "      <th>volume_btc</th>\n",
       "      <th>volume_usd</th>\n",
       "      <th>weighted_price</th>\n",
       "    </tr>\n",
       "  </thead>\n",
       "  <tbody>\n",
       "    <tr>\n",
       "      <th>0</th>\n",
       "      <td>2011-12-31 16:59:00</td>\n",
       "      <td>1325350740</td>\n",
       "      <td>4.50</td>\n",
       "      <td>4.57</td>\n",
       "      <td>4.50</td>\n",
       "      <td>4.57</td>\n",
       "      <td>37.862297</td>\n",
       "      <td>171.380338</td>\n",
       "      <td>4.526411</td>\n",
       "    </tr>\n",
       "    <tr>\n",
       "      <th>1</th>\n",
       "      <td>2012-01-04 16:00:00</td>\n",
       "      <td>1325692800</td>\n",
       "      <td>5.36</td>\n",
       "      <td>5.37</td>\n",
       "      <td>5.36</td>\n",
       "      <td>5.37</td>\n",
       "      <td>13.629423</td>\n",
       "      <td>73.060000</td>\n",
       "      <td>5.360462</td>\n",
       "    </tr>\n",
       "    <tr>\n",
       "      <th>2</th>\n",
       "      <td>2012-01-04 17:51:00</td>\n",
       "      <td>1325699460</td>\n",
       "      <td>5.37</td>\n",
       "      <td>5.57</td>\n",
       "      <td>5.37</td>\n",
       "      <td>5.57</td>\n",
       "      <td>43.312196</td>\n",
       "      <td>235.747069</td>\n",
       "      <td>5.442972</td>\n",
       "    </tr>\n",
       "    <tr>\n",
       "      <th>3</th>\n",
       "      <td>2012-01-05 07:19:00</td>\n",
       "      <td>1325747940</td>\n",
       "      <td>5.75</td>\n",
       "      <td>5.79</td>\n",
       "      <td>5.75</td>\n",
       "      <td>5.79</td>\n",
       "      <td>14.800000</td>\n",
       "      <td>85.500000</td>\n",
       "      <td>5.777027</td>\n",
       "    </tr>\n",
       "    <tr>\n",
       "      <th>4</th>\n",
       "      <td>2012-01-05 10:10:00</td>\n",
       "      <td>1325758200</td>\n",
       "      <td>6.19</td>\n",
       "      <td>6.23</td>\n",
       "      <td>6.19</td>\n",
       "      <td>6.23</td>\n",
       "      <td>16.000000</td>\n",
       "      <td>99.285719</td>\n",
       "      <td>6.205357</td>\n",
       "    </tr>\n",
       "  </tbody>\n",
       "</table>\n",
       "</div>"
      ],
      "text/plain": [
       "            timestamp  unixtimestamp  open  high   low  close  volume_btc  \\\n",
       "0 2011-12-31 16:59:00     1325350740  4.50  4.57  4.50   4.57   37.862297   \n",
       "1 2012-01-04 16:00:00     1325692800  5.36  5.37  5.36   5.37   13.629423   \n",
       "2 2012-01-04 17:51:00     1325699460  5.37  5.57  5.37   5.57   43.312196   \n",
       "3 2012-01-05 07:19:00     1325747940  5.75  5.79  5.75   5.79   14.800000   \n",
       "4 2012-01-05 10:10:00     1325758200  6.19  6.23  6.19   6.23   16.000000   \n",
       "\n",
       "   volume_usd  weighted_price  \n",
       "0  171.380338        4.526411  \n",
       "1   73.060000        5.360462  \n",
       "2  235.747069        5.442972  \n",
       "3   85.500000        5.777027  \n",
       "4   99.285719        6.205357  "
      ]
     },
     "execution_count": 4,
     "metadata": {},
     "output_type": "execute_result"
    }
   ],
   "source": [
    "df.head()"
   ]
  },
  {
   "cell_type": "markdown",
   "metadata": {},
   "source": [
    "### Расширение данных"
   ]
  },
  {
   "cell_type": "code",
   "execution_count": 5,
   "metadata": {},
   "outputs": [],
   "source": [
    "df_shifted = df[[\"open\", \"high\", \"low\", \"close\", \"volume_btc\", \"volume_usd\", \"weighted_price\"]].shift(1)\n",
    "df[[\"open_prev1\", \"high_prev1\", \"low_prev1\", \"close_prev1\", \"volume_btc_prev1\", \"volume_usd_prev1\", \"weighted_price_prev1\"]] = df_shifted\n",
    "df[[\"open_rel\", \"high_rel\", \"low_rel\", \"close_rel\", \"volume_btc_rel\", \"volume_usd_rel\", \"weighted_price_rel\"]] = \\\n",
    "    df[[\"open\", \"high\", \"low\", \"close\", \"volume_btc\", \"volume_usd\", \"weighted_price\"]] / df_shifted"
   ]
  },
  {
   "cell_type": "markdown",
   "metadata": {},
   "source": [
    "#### SMA"
   ]
  },
  {
   "cell_type": "code",
   "execution_count": 30,
   "metadata": {},
   "outputs": [],
   "source": [
    "df[\"sma14\"] = df[\"close\"].rolling(14).mean()\n",
    "df[\"sma30\"] = df[\"close\"].rolling(30).mean()"
   ]
  },
  {
   "cell_type": "markdown",
   "metadata": {},
   "source": [
    "#### EMA"
   ]
  },
  {
   "cell_type": "code",
   "execution_count": 66,
   "metadata": {},
   "outputs": [],
   "source": [
    "# smoothing=2\n",
    "# period12=12\n",
    "# period26=26\n",
    "# c_ema12=smoothing/(period12 + 1)\n",
    "# c_ema26=smoothing/(period26 + 1)\n",
    "# ema12 = df[\"close\"] * c_ema12\n",
    "# ema12.iloc[:period12] = np.NaN\n",
    "# ema26 = df[\"close\"] * c_ema26\n",
    "# ema26.iloc[:period26] = np.NaN"
   ]
  },
  {
   "cell_type": "code",
   "execution_count": 67,
   "metadata": {},
   "outputs": [],
   "source": [
    "# ema12.iloc[period12] = df[\"close\"].iloc[period12] * c_ema12 + df[\"close\"].iloc[:period12].mean() * (1 - c_ema12)\n",
    "# ema26.iloc[period26] = df[\"close\"].iloc[period26] * c_ema26 + df[\"close\"].iloc[:period26].mean() * (1 - c_ema26)"
   ]
  },
  {
   "cell_type": "code",
   "execution_count": 56,
   "metadata": {},
   "outputs": [],
   "source": [
    "# for i in df.index[period12+1:period26+1]:\n",
    "#     ema12.iloc[i] = df[\"close\"].iloc[i] * c_ema12 + ema12.iloc[i-1] * (1 - c_ema12)\n",
    "# for i in df.index[period26+1:]:\n",
    "#     close = df[\"close\"].iloc[i]\n",
    "#     ema12.iloc[i] = close * c_ema12 + ema12.iloc[i-1] * (1 - c_ema12)\n",
    "#     ema26.iloc[i] = close * c_ema26 + ema26.iloc[i-1] * (1 - c_ema26)"
   ]
  },
  {
   "cell_type": "code",
   "execution_count": 69,
   "metadata": {},
   "outputs": [],
   "source": [
    "df[\"ema12\"] = df[\"close\"].ewm(span=12, adjust=False).mean()\n",
    "df[\"ema26\"] = df[\"close\"].ewm(span=26, adjust=False).mean()"
   ]
  },
  {
   "cell_type": "markdown",
   "metadata": {},
   "source": [
    "#### MACD"
   ]
  },
  {
   "cell_type": "code",
   "execution_count": 70,
   "metadata": {},
   "outputs": [],
   "source": [
    "df[\"macd\"] = df[\"ema12\"] - df[\"ema26\"]"
   ]
  },
  {
   "cell_type": "markdown",
   "metadata": {},
   "source": [
    "#### OBV"
   ]
  },
  {
   "cell_type": "code",
   "execution_count": 7,
   "metadata": {},
   "outputs": [],
   "source": [
    "def obv(obv, vol, close, close_prev1):\n",
    "    if close > close_prev1:\n",
    "        return obv + vol\n",
    "    elif close < close_prev1:\n",
    "        return obv - vol\n",
    "    else:\n",
    "        return obv\n",
    "\n",
    "def obv_acc(df):\n",
    "    def obv_value(x):\n",
    "        if x[\"close\"] > x[\"close_prev1\"]:\n",
    "            return x[\"volume_btc\"]\n",
    "        elif x[\"close\"] < x[\"close_prev1\"]:\n",
    "            return -x[\"volume_btc\"]\n",
    "        else:\n",
    "            return 0\n",
    "    return df.apply(obv_value, axis=1).cumsum()"
   ]
  },
  {
   "cell_type": "code",
   "execution_count": 8,
   "metadata": {
    "scrolled": true
   },
   "outputs": [],
   "source": [
    "obv_acc_raw = obv_acc(df[[\"volume_btc\", \"close\", \"close_prev1\"]])\n",
    "df[\"obv\"] = obv_acc_raw"
   ]
  },
  {
   "cell_type": "markdown",
   "metadata": {},
   "source": [
    "#### Accumulation/Distirbution\n",
    "Индикатор можно использовать для подтверждения тренда. Если растет цена и увеличивается индикатор, то тренд нарастающий"
   ]
  },
  {
   "cell_type": "code",
   "execution_count": 9,
   "metadata": {},
   "outputs": [],
   "source": [
    "def ad_acc(df):\n",
    "    mfm = df.apply(lambda x: ((x[\"close\"] - x[\"low\"]) - (x[\"high\"] - x[\"close\"]))/(x[\"high\"] - x[\"low\"]), axis=1)\n",
    "    mfv = df[\"volume_btc\"] * mfm\n",
    "    return mfv.cumsum()"
   ]
  },
  {
   "cell_type": "code",
   "execution_count": 10,
   "metadata": {
    "scrolled": true
   },
   "outputs": [],
   "source": [
    "ad_raw = ad_acc(df)\n",
    "df[\"ad\"] = ad_raw"
   ]
  },
  {
   "cell_type": "markdown",
   "metadata": {},
   "source": [
    "#### True Range + Average True Range"
   ]
  },
  {
   "cell_type": "code",
   "execution_count": 11,
   "metadata": {},
   "outputs": [],
   "source": [
    "tr = pd.DataFrame({\n",
    "    \"0\": df[\"high\"] - df[\"low\"],\n",
    "    \"1\": (df[\"high\"] - df[\"close\"]).abs(),\n",
    "    \"2\": (df[\"low\"] - df[\"close\"]).abs(),\n",
    "}).max(axis=1)\n",
    "atr = tr.rolling(14, min_periods=1).mean()"
   ]
  },
  {
   "cell_type": "markdown",
   "metadata": {},
   "source": [
    "#### Average Directional Index (ADX)"
   ]
  },
  {
   "cell_type": "code",
   "execution_count": 12,
   "metadata": {},
   "outputs": [],
   "source": [
    "df_prev1 = df.shift(1)\n",
    "pos_dm = df[\"high\"] - df_prev1[\"high\"]\n",
    "sm_pos_dm = pos_dm.rolling(14, min_periods=1).sum() - pos_dm.rolling(14, min_periods=1).mean() + pos_dm\n",
    "pos_di = sm_pos_dm / atr * 100\n",
    "neg_dm = df[\"low\"] - df_prev1[\"low\"]\n",
    "sm_neg_dm = neg_dm.rolling(14, min_periods=1).sum() - neg_dm.rolling(14, min_periods=1).mean() + neg_dm\n",
    "neg_di = sm_neg_dm / atr * 100"
   ]
  },
  {
   "cell_type": "code",
   "execution_count": 13,
   "metadata": {},
   "outputs": [],
   "source": [
    "dx = 100 * (pos_di - neg_di).abs() / (pos_di + neg_di).abs()"
   ]
  },
  {
   "cell_type": "code",
   "execution_count": 14,
   "metadata": {},
   "outputs": [],
   "source": [
    "adx_easy = dx.rolling(14).mean()\n",
    "df[\"adx\"] = adx_easy"
   ]
  },
  {
   "cell_type": "markdown",
   "metadata": {},
   "source": [
    "Не уверен, что нужно вот так заморачиваться. Считать по новым данным - да, для исторических - хз"
   ]
  },
  {
   "cell_type": "code",
   "execution_count": 15,
   "metadata": {},
   "outputs": [],
   "source": [
    "# adx = dx.copy()\n",
    "# adx.loc[:14] = np.NaN\n",
    "# adx.loc[15] = dx[:14].mean()\n",
    "# adx.loc[15:] = list(map(lambda i: (adx[i-1] * 13 + adx[i]) / 14, adx.index[14:]))\n",
    "# df[\"adx\"] = adx"
   ]
  },
  {
   "cell_type": "markdown",
   "metadata": {},
   "source": [
    "#### Aaron oscillator"
   ]
  },
  {
   "cell_type": "code",
   "execution_count": 16,
   "metadata": {},
   "outputs": [],
   "source": [
    "period_since_max = df[\"high\"].rolling(25, min_periods=1).apply(lambda x: x.argmax(), raw=True)\n",
    "aaron_up = (25 - period_since_max)/25 * 100\n",
    "period_since_min = df[\"low\"].rolling(25, min_periods=1).apply(lambda x: x.argmin(), raw=True)\n",
    "aaron_down = (25 - period_since_min)/25 * 100\n",
    "aaron_osc = aaron_up - aaron_down\n",
    "df[\"aaron\"] = aaron_osc"
   ]
  },
  {
   "cell_type": "markdown",
   "metadata": {},
   "source": [
    "#### Relative Strength Index"
   ]
  },
  {
   "cell_type": "code",
   "execution_count": 83,
   "metadata": {},
   "outputs": [],
   "source": [
    "avg_gain = df.iloc[:14].loc[df[\"close\"] > df[\"open\"]]\n",
    "avg_gain = ((avg_gain[\"close\"] - avg_gain[\"open\"])/avg_gain[\"open\"] * 100).mean()\n",
    "\n",
    "avg_loss = df.iloc[:14].loc[df[\"close\"] < df[\"open\"]]\n",
    "avg_loss = ((avg_loss[\"open\"] - avg_loss[\"close\"])/avg_loss[\"open\"] * 100).mean()\n",
    "\n",
    "rsi_0 = 100 - 100/(1 + avg_gain/avg_loss)"
   ]
  },
  {
   "cell_type": "code",
   "execution_count": 130,
   "metadata": {},
   "outputs": [],
   "source": [
    "rsi_df = df[[\"open\", \"close\"]]\n",
    "# rsi_df.loc[14, \"rsi\"] = rsi_0\n",
    "# rsi_df.loc[14, \"avg_loss\"] = avg_loss\n",
    "# rsi_df.loc[14, \"avg_gain\"] = avg_gain"
   ]
  },
  {
   "cell_type": "code",
   "execution_count": 131,
   "metadata": {},
   "outputs": [
    {
     "data": {
      "text/html": [
       "<div>\n",
       "<style scoped>\n",
       "    .dataframe tbody tr th:only-of-type {\n",
       "        vertical-align: middle;\n",
       "    }\n",
       "\n",
       "    .dataframe tbody tr th {\n",
       "        vertical-align: top;\n",
       "    }\n",
       "\n",
       "    .dataframe thead th {\n",
       "        text-align: right;\n",
       "    }\n",
       "</style>\n",
       "<table border=\"1\" class=\"dataframe\">\n",
       "  <thead>\n",
       "    <tr style=\"text-align: right;\">\n",
       "      <th></th>\n",
       "      <th>open</th>\n",
       "      <th>close</th>\n",
       "    </tr>\n",
       "  </thead>\n",
       "  <tbody>\n",
       "    <tr>\n",
       "      <th>8</th>\n",
       "      <td>6.99</td>\n",
       "      <td>6.90</td>\n",
       "    </tr>\n",
       "    <tr>\n",
       "      <th>10</th>\n",
       "      <td>6.99</td>\n",
       "      <td>6.82</td>\n",
       "    </tr>\n",
       "    <tr>\n",
       "      <th>13</th>\n",
       "      <td>7.35</td>\n",
       "      <td>6.86</td>\n",
       "    </tr>\n",
       "    <tr>\n",
       "      <th>14</th>\n",
       "      <td>7.00</td>\n",
       "      <td>6.90</td>\n",
       "    </tr>\n",
       "    <tr>\n",
       "      <th>16</th>\n",
       "      <td>6.50</td>\n",
       "      <td>6.40</td>\n",
       "    </tr>\n",
       "    <tr>\n",
       "      <th>...</th>\n",
       "      <td>...</td>\n",
       "      <td>...</td>\n",
       "    </tr>\n",
       "    <tr>\n",
       "      <th>2860473</th>\n",
       "      <td>58699.45</td>\n",
       "      <td>58677.70</td>\n",
       "    </tr>\n",
       "    <tr>\n",
       "      <th>2860474</th>\n",
       "      <td>58673.20</td>\n",
       "      <td>58644.13</td>\n",
       "    </tr>\n",
       "    <tr>\n",
       "      <th>2860477</th>\n",
       "      <td>58718.68</td>\n",
       "      <td>58698.50</td>\n",
       "    </tr>\n",
       "    <tr>\n",
       "      <th>2860479</th>\n",
       "      <td>58742.18</td>\n",
       "      <td>58714.31</td>\n",
       "    </tr>\n",
       "    <tr>\n",
       "      <th>2860480</th>\n",
       "      <td>58714.31</td>\n",
       "      <td>58686.00</td>\n",
       "    </tr>\n",
       "  </tbody>\n",
       "</table>\n",
       "<p>1331050 rows × 2 columns</p>\n",
       "</div>"
      ],
      "text/plain": [
       "             open     close\n",
       "8            6.99      6.90\n",
       "10           6.99      6.82\n",
       "13           7.35      6.86\n",
       "14           7.00      6.90\n",
       "16           6.50      6.40\n",
       "...           ...       ...\n",
       "2860473  58699.45  58677.70\n",
       "2860474  58673.20  58644.13\n",
       "2860477  58718.68  58698.50\n",
       "2860479  58742.18  58714.31\n",
       "2860480  58714.31  58686.00\n",
       "\n",
       "[1331050 rows x 2 columns]"
      ]
     },
     "execution_count": 131,
     "metadata": {},
     "output_type": "execute_result"
    }
   ],
   "source": [
    "gains = rsi_df[rsi_df[\"open\"] > rsi_df[\"close\"]]\n",
    "losses = rsi_df[rsi_df[\"open\"] < rsi_df[\"close\"]]\n",
    "gains."
   ]
  }
 ],
 "metadata": {
  "kernelspec": {
   "display_name": "Python 3",
   "language": "python",
   "name": "python3"
  },
  "language_info": {
   "codemirror_mode": {
    "name": "ipython",
    "version": 3
   },
   "file_extension": ".py",
   "mimetype": "text/x-python",
   "name": "python",
   "nbconvert_exporter": "python",
   "pygments_lexer": "ipython3",
   "version": "3.9.4"
  }
 },
 "nbformat": 4,
 "nbformat_minor": 4
}
