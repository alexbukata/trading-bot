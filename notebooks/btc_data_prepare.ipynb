{
 "cells": [
  {
   "cell_type": "code",
   "execution_count": 1,
   "metadata": {},
   "outputs": [],
   "source": [
    "import pandas as pd\n",
    "import numpy as np"
   ]
  },
  {
   "cell_type": "markdown",
   "metadata": {},
   "source": [
    "### Сырой DataFrame"
   ]
  },
  {
   "cell_type": "code",
   "execution_count": 2,
   "metadata": {},
   "outputs": [],
   "source": [
    "df_raw = pd.read_csv(\"../../resources/bitstampUSD_1-min_data_2012-01-01_to_2021-03-31.csv\")\n",
    "df_raw.columns=[\"unixtimestamp\", \"open\", \"high\",\"low\",\"close\", \"volume_btc\",\"volume_usd\",\"weighted_price\"]"
   ]
  },
  {
   "cell_type": "markdown",
   "metadata": {},
   "source": [
    "### Чистка данных"
   ]
  },
  {
   "cell_type": "code",
   "execution_count": 3,
   "metadata": {},
   "outputs": [],
   "source": [
    "df = df_raw.dropna()\n",
    "df = df.loc[(df[\"volume_btc\"] > 0) & (df[\"high\"] != df[\"low\"])]\n",
    "df.insert(loc=0, column='timestamp', value=pd.to_datetime(df['unixtimestamp'],unit = 's'))\n",
    "df.reset_index(inplace=True, drop=True)"
   ]
  },
  {
   "cell_type": "code",
   "execution_count": 4,
   "metadata": {},
   "outputs": [
    {
     "data": {
      "text/html": [
       "<div>\n",
       "<style scoped>\n",
       "    .dataframe tbody tr th:only-of-type {\n",
       "        vertical-align: middle;\n",
       "    }\n",
       "\n",
       "    .dataframe tbody tr th {\n",
       "        vertical-align: top;\n",
       "    }\n",
       "\n",
       "    .dataframe thead th {\n",
       "        text-align: right;\n",
       "    }\n",
       "</style>\n",
       "<table border=\"1\" class=\"dataframe\">\n",
       "  <thead>\n",
       "    <tr style=\"text-align: right;\">\n",
       "      <th></th>\n",
       "      <th>timestamp</th>\n",
       "      <th>unixtimestamp</th>\n",
       "      <th>open</th>\n",
       "      <th>high</th>\n",
       "      <th>low</th>\n",
       "      <th>close</th>\n",
       "      <th>volume_btc</th>\n",
       "      <th>volume_usd</th>\n",
       "      <th>weighted_price</th>\n",
       "    </tr>\n",
       "  </thead>\n",
       "  <tbody>\n",
       "    <tr>\n",
       "      <th>0</th>\n",
       "      <td>2011-12-31 16:59:00</td>\n",
       "      <td>1325350740</td>\n",
       "      <td>4.50</td>\n",
       "      <td>4.57</td>\n",
       "      <td>4.50</td>\n",
       "      <td>4.57</td>\n",
       "      <td>37.862297</td>\n",
       "      <td>171.380338</td>\n",
       "      <td>4.526411</td>\n",
       "    </tr>\n",
       "    <tr>\n",
       "      <th>1</th>\n",
       "      <td>2012-01-04 16:00:00</td>\n",
       "      <td>1325692800</td>\n",
       "      <td>5.36</td>\n",
       "      <td>5.37</td>\n",
       "      <td>5.36</td>\n",
       "      <td>5.37</td>\n",
       "      <td>13.629423</td>\n",
       "      <td>73.060000</td>\n",
       "      <td>5.360462</td>\n",
       "    </tr>\n",
       "    <tr>\n",
       "      <th>2</th>\n",
       "      <td>2012-01-04 17:51:00</td>\n",
       "      <td>1325699460</td>\n",
       "      <td>5.37</td>\n",
       "      <td>5.57</td>\n",
       "      <td>5.37</td>\n",
       "      <td>5.57</td>\n",
       "      <td>43.312196</td>\n",
       "      <td>235.747069</td>\n",
       "      <td>5.442972</td>\n",
       "    </tr>\n",
       "    <tr>\n",
       "      <th>3</th>\n",
       "      <td>2012-01-05 07:19:00</td>\n",
       "      <td>1325747940</td>\n",
       "      <td>5.75</td>\n",
       "      <td>5.79</td>\n",
       "      <td>5.75</td>\n",
       "      <td>5.79</td>\n",
       "      <td>14.800000</td>\n",
       "      <td>85.500000</td>\n",
       "      <td>5.777027</td>\n",
       "    </tr>\n",
       "    <tr>\n",
       "      <th>4</th>\n",
       "      <td>2012-01-05 10:10:00</td>\n",
       "      <td>1325758200</td>\n",
       "      <td>6.19</td>\n",
       "      <td>6.23</td>\n",
       "      <td>6.19</td>\n",
       "      <td>6.23</td>\n",
       "      <td>16.000000</td>\n",
       "      <td>99.285719</td>\n",
       "      <td>6.205357</td>\n",
       "    </tr>\n",
       "  </tbody>\n",
       "</table>\n",
       "</div>"
      ],
      "text/plain": [
       "            timestamp  unixtimestamp  open  high   low  close  volume_btc  \\\n",
       "0 2011-12-31 16:59:00     1325350740  4.50  4.57  4.50   4.57   37.862297   \n",
       "1 2012-01-04 16:00:00     1325692800  5.36  5.37  5.36   5.37   13.629423   \n",
       "2 2012-01-04 17:51:00     1325699460  5.37  5.57  5.37   5.57   43.312196   \n",
       "3 2012-01-05 07:19:00     1325747940  5.75  5.79  5.75   5.79   14.800000   \n",
       "4 2012-01-05 10:10:00     1325758200  6.19  6.23  6.19   6.23   16.000000   \n",
       "\n",
       "   volume_usd  weighted_price  \n",
       "0  171.380338        4.526411  \n",
       "1   73.060000        5.360462  \n",
       "2  235.747069        5.442972  \n",
       "3   85.500000        5.777027  \n",
       "4   99.285719        6.205357  "
      ]
     },
     "execution_count": 4,
     "metadata": {},
     "output_type": "execute_result"
    }
   ],
   "source": [
    "df.head()"
   ]
  },
  {
   "cell_type": "markdown",
   "metadata": {},
   "source": [
    "### Расширение данных"
   ]
  },
  {
   "cell_type": "markdown",
   "metadata": {},
   "source": [
    "#### SMA"
   ]
  },
  {
   "cell_type": "code",
   "execution_count": 5,
   "metadata": {},
   "outputs": [],
   "source": [
    "df[\"sma14\"] = df[\"close\"].rolling(14).mean()\n",
    "df[\"sma30\"] = df[\"close\"].rolling(30).mean()"
   ]
  },
  {
   "cell_type": "markdown",
   "metadata": {},
   "source": [
    "#### EMA"
   ]
  },
  {
   "cell_type": "code",
   "execution_count": 6,
   "metadata": {},
   "outputs": [],
   "source": [
    "# smoothing=2\n",
    "# period12=12\n",
    "# period26=26\n",
    "# c_ema12=smoothing/(period12 + 1)\n",
    "# c_ema26=smoothing/(period26 + 1)\n",
    "# ema12 = df[\"close\"] * c_ema12\n",
    "# ema12.iloc[:period12] = np.NaN\n",
    "# ema26 = df[\"close\"] * c_ema26\n",
    "# ema26.iloc[:period26] = np.NaN"
   ]
  },
  {
   "cell_type": "code",
   "execution_count": 7,
   "metadata": {},
   "outputs": [],
   "source": [
    "# ema12.iloc[period12] = df[\"close\"].iloc[period12] * c_ema12 + df[\"close\"].iloc[:period12].mean() * (1 - c_ema12)\n",
    "# ema26.iloc[period26] = df[\"close\"].iloc[period26] * c_ema26 + df[\"close\"].iloc[:period26].mean() * (1 - c_ema26)"
   ]
  },
  {
   "cell_type": "code",
   "execution_count": 8,
   "metadata": {},
   "outputs": [],
   "source": [
    "# for i in df.index[period12+1:period26+1]:\n",
    "#     ema12.iloc[i] = df[\"close\"].iloc[i] * c_ema12 + ema12.iloc[i-1] * (1 - c_ema12)\n",
    "# for i in df.index[period26+1:]:\n",
    "#     close = df[\"close\"].iloc[i]\n",
    "#     ema12.iloc[i] = close * c_ema12 + ema12.iloc[i-1] * (1 - c_ema12)\n",
    "#     ema26.iloc[i] = close * c_ema26 + ema26.iloc[i-1] * (1 - c_ema26)"
   ]
  },
  {
   "cell_type": "code",
   "execution_count": 9,
   "metadata": {},
   "outputs": [],
   "source": [
    "df[\"ema12\"] = df[\"close\"].ewm(span=12, adjust=False).mean()\n",
    "df[\"ema26\"] = df[\"close\"].ewm(span=26, adjust=False).mean()"
   ]
  },
  {
   "cell_type": "markdown",
   "metadata": {},
   "source": [
    "#### MACD"
   ]
  },
  {
   "cell_type": "code",
   "execution_count": 10,
   "metadata": {},
   "outputs": [],
   "source": [
    "df[\"macd\"] = df[\"ema12\"] - df[\"ema26\"]"
   ]
  },
  {
   "cell_type": "markdown",
   "metadata": {},
   "source": [
    "#### OBV"
   ]
  },
  {
   "cell_type": "code",
   "execution_count": 11,
   "metadata": {},
   "outputs": [],
   "source": [
    "def obv(obv, vol, close, close_prev1):\n",
    "    if close > close_prev1:\n",
    "        return obv + vol\n",
    "    elif close < close_prev1:\n",
    "        return obv - vol\n",
    "    else:\n",
    "        return obv\n",
    "\n",
    "def obv_acc(df):\n",
    "    def obv_value(x):\n",
    "        if x[\"close\"] > x[\"close_prev1\"]:\n",
    "            return x[\"volume_btc\"]\n",
    "        elif x[\"close\"] < x[\"close_prev1\"]:\n",
    "            return -x[\"volume_btc\"]\n",
    "        else:\n",
    "            return 0\n",
    "    return df.apply(obv_value, axis=1).cumsum()"
   ]
  },
  {
   "cell_type": "code",
   "execution_count": 12,
   "metadata": {
    "scrolled": true
   },
   "outputs": [
    {
     "name": "stderr",
     "output_type": "stream",
     "text": [
      "<ipython-input-12-c4bca509a06d>:2: SettingWithCopyWarning: \n",
      "A value is trying to be set on a copy of a slice from a DataFrame.\n",
      "Try using .loc[row_indexer,col_indexer] = value instead\n",
      "\n",
      "See the caveats in the documentation: https://pandas.pydata.org/pandas-docs/stable/user_guide/indexing.html#returning-a-view-versus-a-copy\n",
      "  df_obv_input[\"close_prev1\"] = df_obv_input[\"close\"].shift(1)\n"
     ]
    }
   ],
   "source": [
    "df_obv_input = df[[\"volume_btc\", \"close\"]]\n",
    "df_obv_input[\"close_prev1\"] = df_obv_input[\"close\"].shift(1)\n",
    "df[\"obv\"] = obv_acc(df_obv_input)"
   ]
  },
  {
   "cell_type": "markdown",
   "metadata": {},
   "source": [
    "#### Accumulation/Distirbution\n",
    "Индикатор можно использовать для подтверждения тренда. Если растет цена и увеличивается индикатор, то тренд нарастающий"
   ]
  },
  {
   "cell_type": "code",
   "execution_count": 13,
   "metadata": {},
   "outputs": [],
   "source": [
    "def ad_acc(df):\n",
    "    mfm = df.apply(lambda x: ((x[\"close\"] - x[\"low\"]) - (x[\"high\"] - x[\"close\"]))/(x[\"high\"] - x[\"low\"]), axis=1)\n",
    "    mfv = df[\"volume_btc\"] * mfm\n",
    "    return mfv.cumsum()"
   ]
  },
  {
   "cell_type": "code",
   "execution_count": 14,
   "metadata": {
    "scrolled": true
   },
   "outputs": [],
   "source": [
    "ad_raw = ad_acc(df)\n",
    "df[\"ad\"] = ad_raw"
   ]
  },
  {
   "cell_type": "markdown",
   "metadata": {},
   "source": [
    "#### True Range + Average True Range"
   ]
  },
  {
   "cell_type": "code",
   "execution_count": 15,
   "metadata": {},
   "outputs": [],
   "source": [
    "tr = pd.DataFrame({\n",
    "    \"0\": df[\"high\"] - df[\"low\"],\n",
    "    \"1\": (df[\"high\"] - df[\"close\"]).abs(),\n",
    "    \"2\": (df[\"low\"] - df[\"close\"]).abs(),\n",
    "}).max(axis=1)\n",
    "atr = tr.rolling(14, min_periods=1).mean()"
   ]
  },
  {
   "cell_type": "markdown",
   "metadata": {},
   "source": [
    "#### Average Directional Index (ADX)"
   ]
  },
  {
   "cell_type": "code",
   "execution_count": 16,
   "metadata": {},
   "outputs": [],
   "source": [
    "df_prev1 = df.shift(1)\n",
    "pos_dm = df[\"high\"] - df_prev1[\"high\"]\n",
    "sm_pos_dm = pos_dm.rolling(14, min_periods=1).sum() - pos_dm.rolling(14, min_periods=1).mean() + pos_dm\n",
    "pos_di = sm_pos_dm / atr * 100\n",
    "neg_dm = df[\"low\"] - df_prev1[\"low\"]\n",
    "sm_neg_dm = neg_dm.rolling(14, min_periods=1).sum() - neg_dm.rolling(14, min_periods=1).mean() + neg_dm\n",
    "neg_di = sm_neg_dm / atr * 100"
   ]
  },
  {
   "cell_type": "code",
   "execution_count": 17,
   "metadata": {},
   "outputs": [],
   "source": [
    "dx = 100 * (pos_di - neg_di).abs() / (pos_di + neg_di).abs()"
   ]
  },
  {
   "cell_type": "code",
   "execution_count": 18,
   "metadata": {},
   "outputs": [],
   "source": [
    "adx_easy = dx.rolling(14).mean()\n",
    "df[\"adx\"] = adx_easy"
   ]
  },
  {
   "cell_type": "markdown",
   "metadata": {},
   "source": [
    "Не уверен, что нужно вот так заморачиваться. Считать по новым данным - да, для исторических - хз"
   ]
  },
  {
   "cell_type": "code",
   "execution_count": 19,
   "metadata": {},
   "outputs": [],
   "source": [
    "# adx = dx.copy()\n",
    "# adx.loc[:14] = np.NaN\n",
    "# adx.loc[15] = dx[:14].mean()\n",
    "# adx.loc[15:] = list(map(lambda i: (adx[i-1] * 13 + adx[i]) / 14, adx.index[14:]))\n",
    "# df[\"adx\"] = adx"
   ]
  },
  {
   "cell_type": "markdown",
   "metadata": {},
   "source": [
    "#### Aaron oscillator"
   ]
  },
  {
   "cell_type": "code",
   "execution_count": 20,
   "metadata": {},
   "outputs": [],
   "source": [
    "period_since_max = df[\"high\"].rolling(25, min_periods=1).apply(lambda x: x.argmax(), raw=True)\n",
    "aaron_up = (25 - period_since_max)/25 * 100\n",
    "period_since_min = df[\"low\"].rolling(25, min_periods=1).apply(lambda x: x.argmin(), raw=True)\n",
    "aaron_down = (25 - period_since_min)/25 * 100\n",
    "aaron_osc = aaron_up - aaron_down\n",
    "df[\"aaron\"] = aaron_osc"
   ]
  },
  {
   "cell_type": "markdown",
   "metadata": {},
   "source": [
    "#### Relative Strength Index"
   ]
  },
  {
   "cell_type": "code",
   "execution_count": 21,
   "metadata": {},
   "outputs": [],
   "source": [
    "# avg_gain = df.iloc[:14].loc[df[\"close\"] > df[\"open\"]]\n",
    "# avg_gain = ((avg_gain[\"close\"] - avg_gain[\"open\"])/avg_gain[\"open\"] * 100).mean()\n",
    "\n",
    "# avg_loss = df.iloc[:14].loc[df[\"close\"] < df[\"open\"]]\n",
    "# avg_loss = ((avg_loss[\"open\"] - avg_loss[\"close\"])/avg_loss[\"open\"] * 100).mean()\n",
    "\n",
    "# rsi_0 = 100 - 100/(1 + avg_gain/avg_loss)"
   ]
  },
  {
   "cell_type": "code",
   "execution_count": 22,
   "metadata": {},
   "outputs": [],
   "source": [
    "# rsi_df = df[[\"open\", \"close\"]]\n",
    "# rsi_df.loc[14, \"rsi\"] = rsi_0\n",
    "# rsi_df.loc[14, \"avg_loss\"] = avg_loss\n",
    "# rsi_df.loc[14, \"avg_gain\"] = avg_gain"
   ]
  },
  {
   "cell_type": "code",
   "execution_count": 23,
   "metadata": {},
   "outputs": [
    {
     "data": {
      "text/plain": [
       "0                NaN\n",
       "1                NaN\n",
       "2                NaN\n",
       "3                NaN\n",
       "4                NaN\n",
       "             ...    \n",
       "2860480    47.204688\n",
       "2860481    44.492785\n",
       "2860482    51.085974\n",
       "2860483    54.282463\n",
       "2860484    55.931482\n",
       "Name: rsi, Length: 2860485, dtype: float64"
      ]
     },
     "execution_count": 23,
     "metadata": {},
     "output_type": "execute_result"
    }
   ],
   "source": [
    "gains, losses = (df[\"close\"] - df[\"open\"])/df[\"open\"]*100, (df[\"open\"] - df[\"close\"])/df[\"open\"]*100\n",
    "gains[gains < 0] = 0\n",
    "losses[losses < 0] = 0\n",
    "df[\"rsi\"] = 100 - 100/(1 + gains.rolling(14).mean() / losses.rolling(14).mean())\n",
    "df[\"rsi\"]"
   ]
  },
  {
   "cell_type": "markdown",
   "metadata": {},
   "source": [
    "#### Stochastic Oscillator"
   ]
  },
  {
   "cell_type": "code",
   "execution_count": 24,
   "metadata": {},
   "outputs": [
    {
     "data": {
      "text/plain": [
       "2860465    28.305603\n",
       "2860466    35.681335\n",
       "2860467    22.194578\n",
       "2860468     8.545830\n",
       "2860469     5.156494\n",
       "2860470     0.131910\n",
       "2860471     0.131910\n",
       "2860472    40.028780\n",
       "2860473    61.764000\n",
       "2860474    49.897541\n",
       "2860475    33.943058\n",
       "2860476    69.525434\n",
       "2860477    76.165843\n",
       "2860478    60.694743\n",
       "2860479    86.178912\n",
       "2860480    70.415002\n",
       "2860481    53.009530\n",
       "2860482    52.892714\n",
       "2860483    72.686191\n",
       "2860484    87.988255\n",
       "Name: so, dtype: float64"
      ]
     },
     "execution_count": 24,
     "metadata": {},
     "output_type": "execute_result"
    }
   ],
   "source": [
    "df[\"so\"] = 100*(df[\"close\"].shift(1) - df[\"low\"].rolling(14).min())/(df[\"high\"].rolling(14).max() - df[\"low\"].rolling(14).min())\n",
    "df[\"so\"].tail(20)"
   ]
  },
  {
   "cell_type": "markdown",
   "metadata": {},
   "source": [
    "### Учтем вчерашние значения + относительное изменения в %"
   ]
  },
  {
   "cell_type": "code",
   "execution_count": 25,
   "metadata": {},
   "outputs": [],
   "source": [
    "columns_to_shift = ['open', 'high', 'low', 'close',\n",
    "       'volume_btc', 'volume_usd', 'weighted_price', 'sma14', 'sma30', 'ema12',\n",
    "       'ema26', 'macd', 'obv', 'ad', 'adx', 'aaron', 'rsi', 'so']\n",
    "df_shifted = df[columns_to_shift].shift(1)\n",
    "df[list(map(lambda col: col + \"_prev1\", columns_to_shift))] = df_shifted\n",
    "df[list(map(lambda col: col + \"_rel\", columns_to_shift))] = df[columns_to_shift] / df_shifted"
   ]
  },
  {
   "cell_type": "markdown",
   "metadata": {},
   "source": [
    "### Сдвинем относительные изменения из предыдущего пункта"
   ]
  },
  {
   "cell_type": "code",
   "execution_count": 26,
   "metadata": {},
   "outputs": [],
   "source": [
    "rel_columns_to_shift = list(map(lambda col: col + \"_rel\", columns_to_shift))\n",
    "df_shifted = df[rel_columns_to_shift].shift(1)\n",
    "df[list(map(lambda col: col + \"_prev1\", rel_columns_to_shift))] = df_shifted"
   ]
  },
  {
   "cell_type": "markdown",
   "metadata": {},
   "source": [
    "### Готово"
   ]
  },
  {
   "cell_type": "code",
   "execution_count": 27,
   "metadata": {},
   "outputs": [],
   "source": [
    "df.dropna()\n",
    "df.to_hdf(\"btc_data.hdf\", \"table\")"
   ]
  }
 ],
 "metadata": {
  "kernelspec": {
   "display_name": "Python 3",
   "language": "python",
   "name": "python3"
  },
  "language_info": {
   "codemirror_mode": {
    "name": "ipython",
    "version": 3
   },
   "file_extension": ".py",
   "mimetype": "text/x-python",
   "name": "python",
   "nbconvert_exporter": "python",
   "pygments_lexer": "ipython3",
   "version": "3.9.4"
  }
 },
 "nbformat": 4,
 "nbformat_minor": 4
}
